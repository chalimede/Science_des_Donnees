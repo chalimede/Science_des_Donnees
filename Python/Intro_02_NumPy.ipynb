{
 "cells": [
  {
   "cell_type": "markdown",
   "id": "5d42bf40-b1c6-41b3-a3c8-b5e4fb2d0930",
   "metadata": {},
   "source": [
    "# Exemples de base sur le module NumPy.\n",
    "\n",
    "#### Copyright(C) 2024, Charles Theetten, <chalimede@proton.me>"
   ]
  },
  {
   "cell_type": "code",
   "execution_count": null,
   "id": "f49ae94a-70b2-43ff-90d2-6fcc3fc04211",
   "metadata": {},
   "outputs": [],
   "source": [
    "Les codes présentés dans ce notebook sont des exemples de base qui servent avant tout à se familiariser avec le module NumPy pour la science des données."
   ]
  },
  {
   "cell_type": "code",
   "execution_count": 1,
   "id": "48ee2634-d66e-4a67-887b-a3b87f87ce28",
   "metadata": {},
   "outputs": [],
   "source": [
    "import matplotlib.pyplot as plt\n",
    "import numpy as np"
   ]
  },
  {
   "cell_type": "code",
   "execution_count": 2,
   "id": "7dafaaa6-7ea0-49ab-9660-9145767533b2",
   "metadata": {},
   "outputs": [
    {
     "name": "stdout",
     "output_type": "stream",
     "text": [
      "[[ 1.  1.  1.  0.  0.  0.]\n",
      " [ 1.  1.  1.  0.  0.  0.]\n",
      " [ 1.  1.  1.  0.  0.  0.]\n",
      " [ 0.  0.  0. -1. -1. -1.]\n",
      " [ 0.  0.  0. -1. -1. -1.]\n",
      " [ 0.  0.  0. -1. -1. -1.]]\n"
     ]
    }
   ],
   "source": [
    "X           = np.zeros(shape = (6, 6))\n",
    "X[0:3, 0:3] = 1\n",
    "X[3:6, 3:6] = -1\n",
    "\n",
    "print(X)"
   ]
  },
  {
   "cell_type": "code",
   "execution_count": 3,
   "id": "51e9bf61-63d2-4e3e-bd7f-0a1f4d4496e5",
   "metadata": {},
   "outputs": [
    {
     "name": "stdout",
     "output_type": "stream",
     "text": [
      "[[0. 1. 2. 3. 4. 5.]\n",
      " [0. 1. 2. 3. 4. 5.]\n",
      " [0. 1. 2. 3. 4. 5.]\n",
      " [0. 1. 2. 3. 4. 5.]\n",
      " [0. 1. 2. 3. 4. 5.]\n",
      " [0. 1. 2. 3. 4. 5.]]\n"
     ]
    }
   ],
   "source": [
    "X         = np.zeros(shape = (6, 6))\n",
    "X[0:, 0:] = [ i for i in range(6) ]\n",
    "\n",
    "print(X)"
   ]
  },
  {
   "cell_type": "code",
   "execution_count": 4,
   "id": "8019754f-7393-4170-8097-bcade5f38f86",
   "metadata": {},
   "outputs": [
    {
     "name": "stdout",
     "output_type": "stream",
     "text": [
      "[[0. 0. 0. 0.]\n",
      " [1. 1. 1. 1.]\n",
      " [2. 2. 2. 2.]\n",
      " [3. 3. 3. 3.]\n",
      " [4. 4. 4. 4.]\n",
      " [5. 5. 5. 5.]\n",
      " [6. 6. 6. 6.]\n",
      " [7. 7. 7. 7.]\n",
      " [8. 8. 8. 8.]\n",
      " [9. 9. 9. 9.]]\n"
     ]
    }
   ],
   "source": [
    "X = np.ones((10, 4))\n",
    "\n",
    "for i, row in enumerate(X):\n",
    "    row *= i\n",
    "    #M[i, :] = row * i\n",
    "\n",
    "print(X)"
   ]
  },
  {
   "cell_type": "code",
   "execution_count": 5,
   "id": "8d78c8fd-c7d2-4d3e-bf2d-727e1872d6f9",
   "metadata": {},
   "outputs": [
    {
     "name": "stdout",
     "output_type": "stream",
     "text": [
      "[2.72 2.75 2.77 2.8  2.83 2.85 2.88 2.91 2.94 2.96]\n"
     ]
    }
   ],
   "source": [
    "def f(X):\n",
    "    return np.exp(np.sin(X) + np.cos(X))\n",
    "\n",
    "\n",
    "X = np.array([i / 100 for i in range(20)])\n",
    "print(np.round(f(X)[:10], decimals = 2))"
   ]
  },
  {
   "cell_type": "code",
   "execution_count": 6,
   "id": "19d56469-f822-4184-9c47-05595534b518",
   "metadata": {},
   "outputs": [
    {
     "name": "stdout",
     "output_type": "stream",
     "text": [
      "(20,)\n",
      "[2.72 2.75 2.77 2.8  2.83 2.85 2.88 2.91 2.94 2.96]\n"
     ]
    }
   ],
   "source": [
    "def g(X):\n",
    "    print(X.shape)\n",
    "\n",
    "    for i in range(X.shape[0]):\n",
    "        X[i] = np.exp(np.sin(X[i]) + np.cos(X[i]))\n",
    "\n",
    "    return X\n",
    "\n",
    "\n",
    "X = np.array([i / 100 for i in range(20)])\n",
    "print(np.round(g(X)[:10], decimals = 2))"
   ]
  },
  {
   "cell_type": "code",
   "execution_count": 7,
   "id": "7936489c-ff9e-4fef-915c-44161849ae98",
   "metadata": {},
   "outputs": [
    {
     "name": "stdout",
     "output_type": "stream",
     "text": [
      "Le calcul de f avec numpy a pris 0.127 secondes\n",
      "(10000000,)\n",
      "Le calcul de f sans numpy a pris 37.224 secondes\n"
     ]
    }
   ],
   "source": [
    "from time import time\n",
    "\n",
    "\n",
    "X     = np.array([i / 1e7 for i in range(int(1e7))])\n",
    "\n",
    "start = time()\n",
    "f(X)\n",
    "end   = time()\n",
    "\n",
    "t     = end - start\n",
    "print(f\"Le calcul de f avec numpy a pris {t:.3f} secondes\")\n",
    "\n",
    "start = time()\n",
    "g(X)\n",
    "end   = time()\n",
    "\n",
    "t     = end - start\n",
    "print(f\"Le calcul de f sans numpy a pris {t:.3f} secondes\")"
   ]
  },
  {
   "cell_type": "code",
   "execution_count": 8,
   "id": "f3502df9-cbda-4e6c-991e-6461454f797f",
   "metadata": {},
   "outputs": [
    {
     "name": "stdout",
     "output_type": "stream",
     "text": [
      "['vélo' 'pain' 'eau' 'pizzas']\n",
      "[50]\n"
     ]
    }
   ],
   "source": [
    "items      = np.array([\"raquette\", \"ordinateur\", \"vélo\", \"jeans\", \"pain\", \"eau\", \"pizzas\", \"lunettes\"])\n",
    "discounts  = np.array([25, 25, 50, 25, 50, 50, 50, 75])\n",
    "\n",
    "print(items[discounts == 50])\n",
    "print(discounts[items == \"vélo\"])"
   ]
  },
  {
   "cell_type": "code",
   "execution_count": 9,
   "id": "41c14a32-549d-432b-9224-2d353b5c2824",
   "metadata": {},
   "outputs": [
    {
     "name": "stdout",
     "output_type": "stream",
     "text": [
      "(1797, 64)\n"
     ]
    }
   ],
   "source": [
    "from sklearn.datasets import load_digits\n",
    "\n",
    "\n",
    "digits     = load_digits()\n",
    "X          = digits['data']\n",
    "\n",
    "print(X.shape)\n",
    "\n",
    "X_reshaped = X.reshape(1797, 8, 8)\n",
    "img1       = X_reshaped[199]\n",
    "img2       = X_reshaped[620]\n",
    "img3       = np.concatenate([img1, img2], axis = 1)"
   ]
  },
  {
   "cell_type": "code",
   "execution_count": 10,
   "id": "dafbee52-189d-48a6-a428-74487180e834",
   "metadata": {},
   "outputs": [
    {
     "data": {
      "text/plain": [
       "Text(0.5, 1.0, 'Concaténation')"
      ]
     },
     "execution_count": 10,
     "metadata": {},
     "output_type": "execute_result"
    },
    {
     "data": {
      "image/png": "[encoded data removed]",
      "text/plain": [
       "<Figure size 640x480 with 3 Axes>"
      ]
     },
     "metadata": {},
     "output_type": "display_data"
    }
   ],
   "source": [
    "plt.subplot(1, 3, 1)\n",
    "plt.imshow(img1, cmap = 'gray')\n",
    "plt.axis(\"off\")\n",
    "plt.title(\"Image 1\")\n",
    "\n",
    "plt.subplot(1, 3, 2)\n",
    "plt.imshow(img2, cmap = 'gray')\n",
    "plt.axis(\"off\")\n",
    "plt.title(\"Image 2\")\n",
    "\n",
    "plt.subplot(1, 3, 3)\n",
    "plt.imshow(img3, cmap = 'gray')\n",
    "plt.axis(\"off\")\n",
    "plt.title(\"Concaténation\")"
   ]
  },
  {
   "cell_type": "code",
   "execution_count": 11,
   "id": "36481b07-e466-47f8-8882-81edd538ef3c",
   "metadata": {},
   "outputs": [
    {
     "name": "stdout",
     "output_type": "stream",
     "text": [
      "[[ 16 -16]\n",
      " [-16  16]]\n"
     ]
    }
   ],
   "source": [
    "def matrix_power(M, n):\n",
    "    B = M\n",
    "\n",
    "    for i in range(0, n):\n",
    "        B = B.dot(M)\n",
    "\n",
    "    return B\n",
    "\n",
    "\n",
    "M = np.array([[1, -1],\n",
    "              [-1, 1]])\n",
    "\n",
    "print(matrix_power(M, 4))"
   ]
  },
  {
   "cell_type": "code",
   "execution_count": 12,
   "id": "0024138c-d447-4a40-8029-4fbc935bed05",
   "metadata": {},
   "outputs": [
    {
     "name": "stdout",
     "output_type": "stream",
     "text": [
      "[[1.]\n",
      " [1.]]\n",
      "[[-1.]\n",
      " [-1.]]\n",
      "[[-1.]\n",
      " [-1.]]\n",
      "True\n"
     ]
    }
   ],
   "source": [
    "def matrix_rotation(theta):\n",
    "    return np.array([[np.cos(theta), -np.sin(theta)],\n",
    "                     [np.sin(theta), np.cos(theta)]])\n",
    "\n",
    "\n",
    "X  = np.ones((2, 1))\n",
    "R1 = matrix_rotation(np.pi).dot(X)\n",
    "R2 = matrix_rotation(np.pi / 4).dot(matrix_rotation(3 * np.pi / 4)).dot(X)\n",
    "\n",
    "print(X)\n",
    "print(R1)\n",
    "print(R2)\n",
    "print(np.allclose(R1 , R2))"
   ]
  },
  {
   "cell_type": "code",
   "execution_count": 13,
   "id": "610206b0-b492-43d1-89d3-e2a996f54527",
   "metadata": {},
   "outputs": [
    {
     "name": "stdout",
     "output_type": "stream",
     "text": [
      "[[1.  1. ]\n",
      " [0.5 0.5]\n",
      " [0.  0. ]]\n",
      "----------\n",
      "[[1.  1. ]\n",
      " [0.5 0.5]\n",
      " [0.  0. ]]\n"
     ]
    }
   ],
   "source": [
    "def normalisation_min_max(X):\n",
    "    X_norm  = np.transpose(X)\n",
    "    min_max = np.zeros((3, 2))\n",
    "\n",
    "    for i, row in enumerate(X_norm):\n",
    "        for j, col in enumerate(row):\n",
    "            min_max[j, i] = (X_norm[i, j] - np.min(row)) / (np.max(row) - np.min(row))\n",
    "\n",
    "    return min_max\n",
    "\n",
    "\n",
    "X       = np.array([[5, 10], [4, 8], [3, 6]])\n",
    "X_tilde = (X - X.min(axis = 0)) / (X.max(axis = 0) - X.min(axis = 0))\n",
    "\n",
    "print(normalisation_min_max(X))\n",
    "print(\"----------\")\n",
    "print(X_tilde)"
   ]
  },
  {
   "cell_type": "code",
   "execution_count": 14,
   "id": "cc99a46d-06de-477c-89c9-3d58ba8ebf97",
   "metadata": {},
   "outputs": [],
   "source": [
    "def mean_squared_error(X, beta, y):\n",
    "    y_theta = X.dot(beta)\n",
    "\n",
    "    return np.square((y_theta - y)).mean()"
   ]
  },
  {
   "cell_type": "code",
   "execution_count": 15,
   "id": "9d345216-19e0-4f95-b309-c593bd519feb",
   "metadata": {},
   "outputs": [
    {
     "name": "stdout",
     "output_type": "stream",
     "text": [
      "[16.67 15.   13.42 11.93 10.53  9.22  7.99  6.85  5.8 ]\n"
     ]
    }
   ],
   "source": [
    "X       = np.array([5, 4, 3])\n",
    "y       = np.array([10, 8, 6])\n",
    "\n",
    "beta    = np.linspace(start = 1.0, stop = 3.0, num = 40)\n",
    "errors  = [ mean_squared_error(X, beta[i], y) for i in range(40) ]\n",
    "\n",
    "print(np.round(errors, decimals = 2)[:-10:-1])"
   ]
  },
  {
   "cell_type": "code",
   "execution_count": 16,
   "id": "0880e0da-d6f4-407a-8710-11e45dc615d8",
   "metadata": {},
   "outputs": [
    {
     "name": "stdout",
     "output_type": "stream",
     "text": [
      "[10  8  6]\n",
      "1.97\n",
      "[9.87 7.9  5.92]\n",
      "Écart moyen entre valeurs réelles et valeurs prédites: 0.1.\n"
     ]
    }
   ],
   "source": [
    "errors       = np.array(errors)\n",
    "beta_optimal = beta[errors.argmin()]\n",
    "y_hat        = X.dot(beta_optimal)\n",
    "\n",
    "print(y)\n",
    "print(np.round(beta_optimal, 2))\n",
    "print(np.round(y_hat, 2))\n",
    "print(f\"Écart moyen entre valeurs réelles et valeurs prédites: {np.round(np.abs(y - y_hat).mean(), 2)}.\")"
   ]
  }
 ],
 "metadata": {
  "kernelspec": {
   "display_name": "Python 3 (ipykernel)",
   "language": "python",
   "name": "python3"
  },
  "language_info": {
   "codemirror_mode": {
    "name": "ipython",
    "version": 3
   },
   "file_extension": ".py",
   "mimetype": "text/x-python",
   "name": "python",
   "nbconvert_exporter": "python",
   "pygments_lexer": "ipython3",
   "version": "3.12.0"
  }
 },
 "nbformat": 4,
 "nbformat_minor": 5
}
