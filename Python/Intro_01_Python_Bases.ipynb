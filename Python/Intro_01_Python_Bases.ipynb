{
 "cells": [
  {
   "cell_type": "markdown",
   "id": "af514a67-c743-4cdd-84d7-ee80e9d9b07d",
   "metadata": {},
   "source": [
    "# Exemples de base sur le langage Python.\n",
    "\n",
    "#### Copyright(C) 2024, Charles Theetten, <chalimede@proton.me>"
   ]
  },
  {
   "cell_type": "markdown",
   "id": "89419c30-f44a-4fcb-94ec-351cfa98f45b",
   "metadata": {},
   "source": [
    "Les codes présentés dans ce notebook sont des exemples de base qui servent avant tout à se familiariser avec le langage Python pour la science des données."
   ]
  },
  {
   "cell_type": "markdown",
   "id": "5889874f-1c38-47c7-acde-89951433fb50",
   "metadata": {},
   "source": [
    "## Affichage d'une variable"
   ]
  },
  {
   "cell_type": "code",
   "execution_count": 1,
   "id": "fb64d361-841c-4d96-bfbc-8101651159c7",
   "metadata": {},
   "outputs": [
    {
     "name": "stdout",
     "output_type": "stream",
     "text": [
      "Valeur de la variable n: 2.\n"
     ]
    }
   ],
   "source": [
    "n = 2\n",
    "\n",
    "print(f\"Valeur de la variable n: {n}.\")"
   ]
  },
  {
   "cell_type": "markdown",
   "id": "6eee717d-b019-4bff-9c9b-570f5549349b",
   "metadata": {},
   "source": [
    "## Listes"
   ]
  },
  {
   "cell_type": "code",
   "execution_count": 2,
   "id": "37382a58-2bb6-4b8b-acca-01f7deb601e5",
   "metadata": {},
   "outputs": [
    {
     "name": "stdout",
     "output_type": "stream",
     "text": [
      "[1, 6, 2, 9, 5]\n",
      "[1, 2, 5, 7, 4]\n",
      "[10, 4, 8, 7, 3, 5, 9, 2, 6, 1]\n"
     ]
    }
   ],
   "source": [
    "my_list = [1, 6, 2, 9, 5, 3, 7, 8, 4, 10]\n",
    "\n",
    "print(f\"{my_list[0:5]}\")\n",
    "print(f\"{my_list[0:10:2]}\")\n",
    "print(f\"{my_list[::-1]}\")"
   ]
  },
  {
   "cell_type": "markdown",
   "id": "9a02e8db-6fc8-441d-bf34-ab3abf6bfec5",
   "metadata": {},
   "source": [
    "## Tuples"
   ]
  },
  {
   "cell_type": "code",
   "execution_count": 3,
   "id": "d5c3b17a-2df6-4a9a-8ac4-c3e4128ee778",
   "metadata": {},
   "outputs": [
    {
     "name": "stdout",
     "output_type": "stream",
     "text": [
      "('A', 1, [2, 3]), A, 1, [3, 2]\n"
     ]
    }
   ],
   "source": [
    "my_tuple = \"A\", 1, [2, 3]\n",
    "x, y, z  = my_tuple\n",
    "\n",
    "print(f\"{my_tuple}, {x}, {y}, {z[::-1]}\")"
   ]
  },
  {
   "cell_type": "markdown",
   "id": "2005e79c-20ae-4ec5-b661-f3150892a267",
   "metadata": {},
   "source": [
    "## Dictionnaires"
   ]
  },
  {
   "cell_type": "code",
   "execution_count": 4,
   "id": "1dafd13a-19e7-474f-aaed-878c50cb8d82",
   "metadata": {},
   "outputs": [
    {
     "name": "stdout",
     "output_type": "stream",
     "text": [
      "{'prenom': 'charles', 'nom': 'hal', 'naissance': 1982}\n",
      "{'prenom': 'archimède', 'nom': 'hal', 'naissance': 2020}\n"
     ]
    }
   ],
   "source": [
    "id_card              = { \"prenom\" : \"charles\", \"nom\" : \"hal\", \"naissance\" : 1982 }\n",
    "\n",
    "print(f\"{id_card}\")\n",
    "\n",
    "id_card[\"prenom\"]    = \"archimède\"\n",
    "id_card[\"naissance\"] = 2020\n",
    "\n",
    "print(f\"{id_card}\")"
   ]
  },
  {
   "cell_type": "markdown",
   "id": "a43b9542-c35c-40c3-8920-c4f4a2b714e2",
   "metadata": {},
   "source": [
    "## Opérateurs"
   ]
  },
  {
   "cell_type": "code",
   "execution_count": 5,
   "id": "1c31276a-6f7e-43af-af9f-c0164f7bd8b3",
   "metadata": {},
   "outputs": [
    {
     "name": "stdout",
     "output_type": "stream",
     "text": [
      "1011.00\n",
      "989.00\n",
      "11000.00\n",
      "90.91\n",
      "90\n",
      "10\n",
      "1000000000000000000000000000000000\n",
      "False, True\n"
     ]
    }
   ],
   "source": [
    "n = 1000\n",
    "\n",
    "print(f\"{(n + 11):.2f}\\n{(n - 11):.2f}\\n{(n * 11):.2f}\\n{(n / 11):.2f}\\n{(n // 11)}\\n{n % 11}\\n{n ** 11}\")\n",
    "print(f\"{16 in my_list}, {-4 not in my_list}\")"
   ]
  },
  {
   "cell_type": "markdown",
   "id": "b4454b7d-18bf-49d8-bb2e-64ae748be14e",
   "metadata": {},
   "source": [
    "## Boucles"
   ]
  },
  {
   "cell_type": "code",
   "execution_count": 6,
   "id": "bac2706e-76bb-4dc3-9a4a-3d8dbb33699c",
   "metadata": {},
   "outputs": [
    {
     "name": "stdout",
     "output_type": "stream",
     "text": [
      "1 2 3 4 5 6 7 8 9 10 "
     ]
    }
   ],
   "source": [
    "i = 1\n",
    "\n",
    "while i <= 10:\n",
    "    print(f\"{i} \", end = \"\")\n",
    "    i += 1"
   ]
  },
  {
   "cell_type": "code",
   "execution_count": 7,
   "id": "2cb332bb-373f-4dbd-949d-67c8cb73f6a9",
   "metadata": {},
   "outputs": [
    {
     "name": "stdout",
     "output_type": "stream",
     "text": [
      "6 6 6 6 6 6 6 6 6 6 "
     ]
    }
   ],
   "source": [
    "primes = [5, 7, 11, 13, 17, 19, 23, 29, 31, 37]\n",
    "\n",
    "for n in primes:\n",
    "    n **= 2\n",
    "    n += 17\n",
    "    n %= 12\n",
    "    print(f\"{n} \", end = \"\")"
   ]
  },
  {
   "cell_type": "code",
   "execution_count": 8,
   "id": "8b376e8d-2bfd-4b24-adbb-d9facaaf0617",
   "metadata": {},
   "outputs": [
    {
     "name": "stdout",
     "output_type": "stream",
     "text": [
      "[0, 1, 1, 2, 3, 5, 8, 13, 21, 34, 55, 89, 144, 233, 377, 610, 987, 1597, 2584, 4181, 6765, 10946]\n"
     ]
    }
   ],
   "source": [
    "fibonacci_sequence = [0, 1]\n",
    "\n",
    "for i in range(0, 20):\n",
    "    n = fibonacci_sequence[i] + fibonacci_sequence[i + 1]\n",
    "    fibonacci_sequence.append(n)\n",
    "\n",
    "print(f\"{fibonacci_sequence}\")"
   ]
  },
  {
   "cell_type": "code",
   "execution_count": 9,
   "id": "5bac7655-8b8f-4b7f-8fbb-69e9c3652ee0",
   "metadata": {},
   "outputs": [
    {
     "name": "stdout",
     "output_type": "stream",
     "text": [
      "aveam\n"
     ]
    }
   ],
   "source": [
    "word = \"maeva\"\n",
    "end  = len(word) - 1\n",
    "inv  = \"\"\n",
    "\n",
    "for i in range(end, -1, -1):\n",
    "    inv += word[i]\n",
    "\n",
    "print(f\"{inv}\")"
   ]
  },
  {
   "cell_type": "code",
   "execution_count": 10,
   "id": "ffb20803-9a16-4e08-a765-00c6a922753a",
   "metadata": {},
   "outputs": [
    {
     "name": "stdout",
     "output_type": "stream",
     "text": [
      "Nombre de lettres e: 8.\n"
     ]
    }
   ],
   "source": [
    "planets = [\"Mercure\", \"Vénus,\", \"Terre\", \"Mars\", \"Jupiter\", \"Saturne\", \"Uranus\", \"Neptune\"]\n",
    "cpt     = 0\n",
    "\n",
    "for word in planets:\n",
    "    for letter in word:\n",
    "        if letter == \"e\":\n",
    "            cpt += 1\n",
    "\n",
    "print(f\"Nombre de lettres e: {cpt}.\")"
   ]
  },
  {
   "cell_type": "code",
   "execution_count": 11,
   "id": "f372805b-8066-4bbb-b81d-3a8a6dde9700",
   "metadata": {},
   "outputs": [
    {
     "name": "stdout",
     "output_type": "stream",
     "text": [
      "[1, 36, 4, 81, 25, 9, 49, 64, 16, 100]\n",
      "[2, 12, 4, 18, 10, 6, 14, 16, 8, 20]\n",
      "['pair', 'impair', 'pair', 'impair', 'pair', 'impair', 'pair', 'impair', 'pair', 'impair']\n"
     ]
    }
   ],
   "source": [
    "length       = len(my_list)\n",
    "list_square  = [ my_list[i] ** 2 for i in range(length) ]\n",
    "list_double  = [ my_list[i] * 2 for i in range(length) ]\n",
    "list_even    = [ \"pair\" if nb % 2 == 0 else \"impair\" for nb in range(length) ]\n",
    "\n",
    "print(f\"{list_square}\")\n",
    "print(f\"{list_double}\")\n",
    "print(f\"{list_even}\")"
   ]
  },
  {
   "cell_type": "code",
   "execution_count": 12,
   "id": "2bfd4133-2485-46c1-b728-2b41c17788f7",
   "metadata": {},
   "outputs": [
    {
     "name": "stdout",
     "output_type": "stream",
     "text": [
      "Indice de la valeur maximale dans my_list: 9.\n"
     ]
    }
   ],
   "source": [
    "max = my_list[0]\n",
    "ind = 0\n",
    "\n",
    "for pos, n in enumerate(my_list):\n",
    "    if n > max:\n",
    "        max = n\n",
    "        ind = pos\n",
    "\n",
    "print(f\"Indice de la valeur maximale dans my_list: {ind}.\")"
   ]
  },
  {
   "cell_type": "code",
   "execution_count": 13,
   "id": "a11ec1c7-292a-4cfa-a552-60dbdbb4244f",
   "metadata": {},
   "outputs": [
    {
     "name": "stdout",
     "output_type": "stream",
     "text": [
      "[-1, 24, 0, 63, 15, 3, 35, 48, 8, 80]\n"
     ]
    }
   ],
   "source": [
    "my_list  = []\n",
    "\n",
    "for s, d in zip(list_square, list_double):\n",
    "    my_list.append(s - d)\n",
    "\n",
    "print(f\"{my_list}\")"
   ]
  },
  {
   "cell_type": "markdown",
   "id": "5a932e1c-b66f-4057-8cd7-d9883d9547f4",
   "metadata": {},
   "source": [
    "## If - Else"
   ]
  },
  {
   "cell_type": "code",
   "execution_count": 14,
   "id": "7e459fa5-4d5a-4cf7-8d54-10369077754c",
   "metadata": {},
   "outputs": [
    {
     "name": "stdout",
     "output_type": "stream",
     "text": [
      "12 est pair.\n"
     ]
    }
   ],
   "source": [
    "n = 12\n",
    "\n",
    "if n % 2 == 0:\n",
    "    print(f\"{n} est pair.\")\n",
    "elif n % 3 == 0:\n",
    "    print(f\"{n} est multiple de 3.\")\n",
    "else:\n",
    "    print(f\"{n} est pair.\")"
   ]
  },
  {
   "cell_type": "markdown",
   "id": "486e92c1-a497-4e4f-99aa-3e4d76abdbed",
   "metadata": {},
   "source": [
    "## Fonctions"
   ]
  },
  {
   "cell_type": "code",
   "execution_count": 15,
   "id": "e7cae26d-47c7-4267-955f-e6af0b74a143",
   "metadata": {},
   "outputs": [
    {
     "name": "stdout",
     "output_type": "stream",
     "text": [
      "120\n"
     ]
    }
   ],
   "source": [
    "def factorial(n, acc):\n",
    "    return acc if n <= 1 else factorial(n - 1, n * acc)\n",
    "\n",
    "\n",
    "print(f\"{factorial(5, 1)}\")"
   ]
  },
  {
   "cell_type": "code",
   "execution_count": 16,
   "id": "4b4a9659-890c-4a24-a3cb-4dd3f0ccb3c8",
   "metadata": {},
   "outputs": [
    {
     "name": "stdout",
     "output_type": "stream",
     "text": [
      "Resolution du système d'équations\n",
      "\n",
      "(x + y + z  = 2)\n",
      "(x - y - z  = 0)\n",
      "(2x + y * z = 0)\n",
      "\n",
      "Solution: (1, -1, 2).\n"
     ]
    }
   ],
   "source": [
    "def resolution():\n",
    "    values = [-1, 0, 1, 2]\n",
    "\n",
    "    for x in values:\n",
    "        for y in values:\n",
    "            for z in values:\n",
    "                if (x + y + z == 2) and (x - y - z == 0) and ((2 * x) + (y * z)) == 0:\n",
    "                    return x, y, z\n",
    "\n",
    "\n",
    "print(f\"Resolution du système d'équations\\n\\n(x + y + z  = 2)\\n(x - y - z  = 0)\\n(2x + y * z = 0)\\n\\nSolution: {resolution()}.\")"
   ]
  }
 ],
 "metadata": {
  "kernelspec": {
   "display_name": "Python 3 (ipykernel)",
   "language": "python",
   "name": "python3"
  },
  "language_info": {
   "codemirror_mode": {
    "name": "ipython",
    "version": 3
   },
   "file_extension": ".py",
   "mimetype": "text/x-python",
   "name": "python",
   "nbconvert_exporter": "python",
   "pygments_lexer": "ipython3",
   "version": "3.12.0"
  }
 },
 "nbformat": 4,
 "nbformat_minor": 5
}
