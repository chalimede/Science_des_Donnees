{
 "cells": [
  {
   "cell_type": "markdown",
   "id": "13df5f81-a1a9-4d3a-a843-30f5e762e476",
   "metadata": {},
   "source": [
    "# Exemples de base sur la programmation orientée objet en Python.\n",
    "\n",
    "#### Copyright(C) 2024, Charles Theetten, <chalimede@proton.me>"
   ]
  },
  {
   "cell_type": "markdown",
   "id": "95c1ad57-cd97-4c7a-85c2-b9f0b0f50b32",
   "metadata": {},
   "source": [
    "Les codes présentés dans ce notebook sont des exemples de base qui servent avant tout à se familiariser avec la POO en Python."
   ]
  },
  {
   "cell_type": "code",
   "execution_count": 1,
   "id": "5b8661d1-851c-47a7-9a1a-ba3a5e0ea73c",
   "metadata": {},
   "outputs": [],
   "source": [
    "class Vehicle:\n",
    "\n",
    "    def __init__(self, type, brand, energy):\n",
    "        self.type   = type\n",
    "        self.brand  = brand\n",
    "        self.energy = energy \n",
    "\n",
    "    def move(self):\n",
    "        print(\"Je me déplace avec un véhicule de type\", str(self.type))\n",
    "    \n",
    "    def __str__(self):\n",
    "        return \"Véhicule de type \" + str(self.type) + \", de marque \" + str(self.brand) + \" et de type \" + str(self.energy) + \".\""
   ]
  },
  {
   "cell_type": "code",
   "execution_count": 2,
   "id": "d57f1589-9baf-4682-8308-95d851ebe0e8",
   "metadata": {},
   "outputs": [
    {
     "name": "stdout",
     "output_type": "stream",
     "text": [
      "Véhicule de type voiture, de marque Peugeot et de type essence.\n"
     ]
    }
   ],
   "source": [
    "v = Vehicle(\"voiture\", \"Peugeot\", \"essence\")\n",
    "\n",
    "print(v)"
   ]
  },
  {
   "cell_type": "code",
   "execution_count": 3,
   "id": "761e1f79-7ffa-4aec-872e-22e76d7896e9",
   "metadata": {},
   "outputs": [],
   "source": [
    "class Car(Vehicle):\n",
    "\n",
    "    def __init__(self, type, brand, energy, price, power):\n",
    "        super().__init__(type, brand, energy)\n",
    "        self.price = price\n",
    "        self.power = power\n",
    "\n",
    "    def __str__(self):\n",
    "        return super().__str__() + \"\\nPrix de la voiture: \" + str(self.price) + \".\" +  \"\\nPuissance de la voiture: \" + str(self.power) + \".\"\n",
    "\n",
    "    def __lt__(self, other):    \n",
    "        return self.price < other.price"
   ]
  },
  {
   "cell_type": "code",
   "execution_count": 4,
   "id": "e4351e61-ae8e-486e-9463-273ab46c7401",
   "metadata": {},
   "outputs": [
    {
     "name": "stdout",
     "output_type": "stream",
     "text": [
      "Véhicule de type voiture, de marque Peugeot 206 et de type essence.\n",
      "Prix de la voiture: 12000.\n",
      "Puissance de la voiture: 90.\n",
      "Véhicule de type voiture, de marque Peugeot 308 et de type électrique.\n",
      "Prix de la voiture: 25000.\n",
      "Puissance de la voiture: 110.\n",
      "True\n",
      "Je me déplace avec un véhicule de type Camion\n",
      "Je me déplace avec un véhicule de type voiture\n",
      "Je me déplace avec un véhicule de type voiture\n"
     ]
    }
   ],
   "source": [
    "v0       = Vehicle(\"Camion\", \"Renault\", \"diesel\")\n",
    "c1       = Car(\"voiture\", \"Peugeot 206\", \"essence\", 12000, 90)\n",
    "c2       = Car(\"voiture\", \"Peugeot 308\", \"électrique\", 25000, 110)\n",
    "vehicles = [ v0, c1, c2 ]\n",
    "\n",
    "print(c1)\n",
    "print(c2)\n",
    "print(c1 < c2)\n",
    "\n",
    "for v in vehicles:\n",
    "    v.move()"
   ]
  },
  {
   "cell_type": "code",
   "execution_count": 5,
   "id": "cd03bb12-681b-487c-ada0-5801c2dc9e20",
   "metadata": {},
   "outputs": [],
   "source": [
    "class Case:\n",
    "    \n",
    "    def __init__(self, sign = \" \"):\n",
    "        self.sign = sign\n",
    "    \n",
    "    def play(self, sign):\n",
    "        if self.sign == \" \":\n",
    "            self.sign = sign\n",
    "\n",
    "    def __str__(self):\n",
    "        return self.sign"
   ]
  },
  {
   "cell_type": "code",
   "execution_count": 6,
   "id": "71199fed-e3df-4150-94f0-120a04cb442e",
   "metadata": {},
   "outputs": [],
   "source": [
    "class Morpion:\n",
    "    \n",
    "    def __init__(self, round = 1, grid = []):\n",
    "        self.round = round\n",
    "        self.grid  = grid\n",
    "        \n",
    "        for i in range(9):\n",
    "            self.grid.append(Case(\" \"))\n",
    "            \n",
    "    def run(self):\n",
    "        n = 0\n",
    "\n",
    "        while True:\n",
    "            print(\"Entrez un numéro de case: \")\n",
    "            n = int(input())\n",
    "            if n != -1:\n",
    "                print()\n",
    "                self.grid[n].play(\"X\") if self.round == 1 else self.grid[n].play(\"O\")\n",
    "                self.round = 0 if self.round == 1 else 1\n",
    "                print(self)\n",
    "            else:\n",
    "                break\n",
    "            \n",
    "    def __str__(self):\n",
    "        s =  str(self.grid[0]) + \" | \" + str(self.grid[1]) + \" | \" + str(self.grid[2]) + \"\\n\"\n",
    "        s += str(self.grid[3]) + \" | \" + str(self.grid[4]) + \" | \" + str(self.grid[5]) + \"\\n\"\n",
    "        s += str(self.grid[6]) + \" | \" + str(self.grid[7]) + \" | \" + str(self.grid[8]) + \"\\n\"\n",
    "\n",
    "        return s"
   ]
  },
  {
   "cell_type": "code",
   "execution_count": 7,
   "id": "2b20eeca-6ca8-4191-be4a-ccb8d2ee0490",
   "metadata": {},
   "outputs": [
    {
     "name": "stdout",
     "output_type": "stream",
     "text": [
      "Entrez un numéro de case: \n"
     ]
    },
    {
     "name": "stdin",
     "output_type": "stream",
     "text": [
      " 4\n"
     ]
    },
    {
     "name": "stdout",
     "output_type": "stream",
     "text": [
      "\n",
      "  |   |  \n",
      "  | X |  \n",
      "  |   |  \n",
      "\n",
      "Entrez un numéro de case: \n"
     ]
    },
    {
     "name": "stdin",
     "output_type": "stream",
     "text": [
      " 1\n"
     ]
    },
    {
     "name": "stdout",
     "output_type": "stream",
     "text": [
      "\n",
      "  | O |  \n",
      "  | X |  \n",
      "  |   |  \n",
      "\n",
      "Entrez un numéro de case: \n"
     ]
    },
    {
     "name": "stdin",
     "output_type": "stream",
     "text": [
      " 0\n"
     ]
    },
    {
     "name": "stdout",
     "output_type": "stream",
     "text": [
      "\n",
      "X | O |  \n",
      "  | X |  \n",
      "  |   |  \n",
      "\n",
      "Entrez un numéro de case: \n"
     ]
    },
    {
     "name": "stdin",
     "output_type": "stream",
     "text": [
      " 8\n"
     ]
    },
    {
     "name": "stdout",
     "output_type": "stream",
     "text": [
      "\n",
      "X | O |  \n",
      "  | X |  \n",
      "  |   | O\n",
      "\n",
      "Entrez un numéro de case: \n"
     ]
    },
    {
     "name": "stdin",
     "output_type": "stream",
     "text": [
      " 3\n"
     ]
    },
    {
     "name": "stdout",
     "output_type": "stream",
     "text": [
      "\n",
      "X | O |  \n",
      "X | X |  \n",
      "  |   | O\n",
      "\n",
      "Entrez un numéro de case: \n"
     ]
    },
    {
     "name": "stdin",
     "output_type": "stream",
     "text": [
      " 6\n"
     ]
    },
    {
     "name": "stdout",
     "output_type": "stream",
     "text": [
      "\n",
      "X | O |  \n",
      "X | X |  \n",
      "O |   | O\n",
      "\n",
      "Entrez un numéro de case: \n"
     ]
    },
    {
     "name": "stdin",
     "output_type": "stream",
     "text": [
      " 5\n"
     ]
    },
    {
     "name": "stdout",
     "output_type": "stream",
     "text": [
      "\n",
      "X | O |  \n",
      "X | X | X\n",
      "O |   | O\n",
      "\n",
      "Entrez un numéro de case: \n"
     ]
    },
    {
     "name": "stdin",
     "output_type": "stream",
     "text": [
      " -1\n"
     ]
    }
   ],
   "source": [
    "morpion = Morpion(1, [])\n",
    "\n",
    "morpion.run()"
   ]
  }
 ],
 "metadata": {
  "kernelspec": {
   "display_name": "Python 3 (ipykernel)",
   "language": "python",
   "name": "python3"
  },
  "language_info": {
   "codemirror_mode": {
    "name": "ipython",
    "version": 3
   },
   "file_extension": ".py",
   "mimetype": "text/x-python",
   "name": "python",
   "nbconvert_exporter": "python",
   "pygments_lexer": "ipython3",
   "version": "3.12.0"
  }
 },
 "nbformat": 4,
 "nbformat_minor": 5
}
