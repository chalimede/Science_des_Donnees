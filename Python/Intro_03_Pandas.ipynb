{
 "cells": [
  {
   "cell_type": "markdown",
   "id": "3912c5ef-a65c-4012-bbc4-07c29c483405",
   "metadata": {},
   "source": [
    "# Exemples de base sur le module Pandas.\n",
    "\n",
    "#### Copyright(C) 2024, Charles Theetten, <chalimede@proton.me>"
   ]
  },
  {
   "cell_type": "markdown",
   "id": "a68b41c4-c83c-40aa-b7dc-e0a52a1d4c7f",
   "metadata": {},
   "source": [
    "Les codes présentés dans ce notebook sont des exemples de base qui servent avant tout à se familiariser avec le module Pandas pour la science des données."
   ]
  },
  {
   "cell_type": "code",
   "execution_count": 1,
   "id": "577f3223-bf27-4aa2-ba55-c11d1d0a0b4e",
   "metadata": {},
   "outputs": [],
   "source": [
    "import numpy as np\n",
    "import pandas as pd"
   ]
  },
  {
   "cell_type": "code",
   "execution_count": 2,
   "id": "9886794b-949a-4e9f-9b1a-ec0e0a1499b9",
   "metadata": {},
   "outputs": [],
   "source": [
    "pd.set_option(\"display.width\", 200)"
   ]
  },
  {
   "cell_type": "code",
   "execution_count": 3,
   "id": "2c8eb439-7655-4b5c-9eae-a0cc29c593e3",
   "metadata": {},
   "outputs": [
    {
     "name": "stdout",
     "output_type": "stream",
     "text": [
      "                           Nom   Age      Pays  Classique  Rapide   Blitz      Genre\n",
      "Index                                                                               \n",
      "0               Carlsen Magnus  33.0   Norvège     2830.0  2815.0  2887.0      Homme\n",
      "1              Caruana Fabiano  31.0       USA     2804.0  2745.0  2815.0      Homme\n",
      "2              Nakamura Hikaru  36.0       USA     2788.0  2740.0  2874.0      Homme\n",
      "3                   Ding Liren  31.0     Chine     2780.0  2830.0  2787.0      Homme\n",
      "4           Nepomniachtchi Ian  33.0    Russie     2769.0  2778.0  2801.0      Homme\n",
      "5                    So Wesley  30.0       USA     2757.0  2743.0  2767.0      Homme\n",
      "6              Dominguez Perez  40.0       USA     2756.0  2706.0  2654.0      Homme\n",
      "7             Firouzja Alireza  20.0    France     2750.0  2722.0  2863.0      Homme\n",
      "8                   Giri Anish  29.0  Pays-Bas     2749.0  2698.0  2731.0      Homme\n",
      "9       Vachier-Lagrave Maxime  33.0    France     2733.0  2759.0  2748.0      Homme\n",
      "10                  Hou, Yifan  29.0     Chine     2632.0  2545.0  2561.0      Femme\n",
      "11               Koneru, Humpy  36.0      Inde     2554.0  2444.0  2452.0      Femme\n",
      "12     Goryachkina, Aleksandra  25.0    Russie     2553.0  2483.0  2475.0      Femme\n",
      "13                Lei, Tingjie  26.0     Chine     2550.0  2517.0  2530.0      Femme\n",
      "14                  Ju, Wenjun  32.0     Chine     2549.0  2575.0  2522.0      Femme\n",
      "15             Lagno, Kateryna  33.0    Russie     2542.0  2469.0  2522.0      Femme\n",
      "16              Muzychuk, Anna  33.0   Ukraine     2525.0  2424.0  2447.0      Femme\n",
      "17                Tan, Zhongyi  32.0     Chine     2521.0  2528.0  2519.0      Femme\n",
      "18            Muzychuk, Mariya  31.0   Ukraine     2510.0  2457.0  2443.0      Femme\n",
      "19             Dzagnidze, Nana  36.0      Inde     2506.0  2427.0  2398.0      Femme\n",
      "20                   StockFish   NaN       NaN     3500.0  3500.0  3500.0  Programme\n",
      "21                         NaN   NaN       NaN        NaN     NaN     NaN        NaN\n",
      "22                        Bubu   NaN    France     1400.0  1300.0  1200.0      Femme\n",
      "23                        Bubu   NaN    France     1400.0  1300.0  1200.0      Femme\n",
      "24                        Dudu   NaN    France     1500.0  1400.0  1200.0      Homme\n"
     ]
    }
   ],
   "source": [
    "chessbase = pd.read_csv(\"csv/chess_players.csv\", sep = \",\", index_col = 0)\n",
    "\n",
    "print(chessbase)"
   ]
  },
  {
   "cell_type": "code",
   "execution_count": 4,
   "id": "7197781f-a4c7-4d8c-ab15-278c42d7112e",
   "metadata": {},
   "outputs": [
    {
     "name": "stdout",
     "output_type": "stream",
     "text": [
      "Dimensions du dataset                           : (25, 7)\n",
      "\n",
      "--------------------\n",
      "\n",
      "Colonnes du dataset                             :\n",
      "\n",
      "<class 'pandas.core.frame.DataFrame'>\n",
      "Index: 25 entries, 0 to 24\n",
      "Data columns (total 7 columns):\n",
      " #   Column     Non-Null Count  Dtype  \n",
      "---  ------     --------------  -----  \n",
      " 0   Nom        24 non-null     object \n",
      " 1   Age        20 non-null     float64\n",
      " 2   Pays       23 non-null     object \n",
      " 3   Classique  24 non-null     float64\n",
      " 4   Rapide     24 non-null     float64\n",
      " 5   Blitz      24 non-null     float64\n",
      " 6   Genre      24 non-null     object \n",
      "dtypes: float64(4), object(3)\n",
      "memory usage: 1.6+ KB\n",
      "\n",
      "--------------------\n",
      "\n",
      "Statistiques des colonnes numériques du dataset :\n",
      "\n",
      "             Age    Classique       Rapide        Blitz\n",
      "count  20.000000    24.000000    24.000000    24.000000\n",
      "mean   31.450000  2539.916667  2496.041667  2495.666667\n",
      "std     4.382681   473.569784   501.119397   551.613023\n",
      "min    20.000000  1400.000000  1300.000000  1200.000000\n",
      "25%    29.750000  2524.000000  2453.750000  2450.750000\n",
      "50%    32.000000  2593.000000  2560.000000  2545.500000\n",
      "75%    33.000000  2760.000000  2743.500000  2790.500000\n",
      "max    40.000000  3500.000000  3500.000000  3500.000000\n"
     ]
    }
   ],
   "source": [
    "print(f\"Dimensions du dataset                           : {chessbase.shape}\\n\")\n",
    "print(\"--------------------\\n\")\n",
    "print(f\"Colonnes du dataset                             :\\n\")\n",
    "chessbase.info()\n",
    "print(\"\\n--------------------\\n\")\n",
    "print(f\"Statistiques des colonnes numériques du dataset :\\n\\n{chessbase.describe()}\")"
   ]
  },
  {
   "cell_type": "code",
   "execution_count": 5,
   "id": "cd64adfb-f748-4900-871f-9e0ff168c886",
   "metadata": {},
   "outputs": [
    {
     "name": "stdout",
     "output_type": "stream",
     "text": [
      "Ajout du joueur Test :\n",
      "\n",
      "                           Nom   Age      Pays  Classique  Rapide   Blitz      Genre\n",
      "Index                                                                               \n",
      "0               Carlsen Magnus  33.0   Norvège     2830.0  2815.0  2887.0      Homme\n",
      "1              Caruana Fabiano  31.0       USA     2804.0  2745.0  2815.0      Homme\n",
      "2              Nakamura Hikaru  36.0       USA     2788.0  2740.0  2874.0      Homme\n",
      "3                   Ding Liren  31.0     Chine     2780.0  2830.0  2787.0      Homme\n",
      "4           Nepomniachtchi Ian  33.0    Russie     2769.0  2778.0  2801.0      Homme\n",
      "5                    So Wesley  30.0       USA     2757.0  2743.0  2767.0      Homme\n",
      "6              Dominguez Perez  40.0       USA     2756.0  2706.0  2654.0      Homme\n",
      "7             Firouzja Alireza  20.0    France     2750.0  2722.0  2863.0      Homme\n",
      "8                   Giri Anish  29.0  Pays-Bas     2749.0  2698.0  2731.0      Homme\n",
      "9       Vachier-Lagrave Maxime  33.0    France     2733.0  2759.0  2748.0      Homme\n",
      "10                  Hou, Yifan  29.0     Chine     2632.0  2545.0  2561.0      Femme\n",
      "11               Koneru, Humpy  36.0      Inde     2554.0  2444.0  2452.0      Femme\n",
      "12     Goryachkina, Aleksandra  25.0    Russie     2553.0  2483.0  2475.0      Femme\n",
      "13                Lei, Tingjie  26.0     Chine     2550.0  2517.0  2530.0      Femme\n",
      "14                  Ju, Wenjun  32.0     Chine     2549.0  2575.0  2522.0      Femme\n",
      "15             Lagno, Kateryna  33.0    Russie     2542.0  2469.0  2522.0      Femme\n",
      "16              Muzychuk, Anna  33.0   Ukraine     2525.0  2424.0  2447.0      Femme\n",
      "17                Tan, Zhongyi  32.0     Chine     2521.0  2528.0  2519.0      Femme\n",
      "18            Muzychuk, Mariya  31.0   Ukraine     2510.0  2457.0  2443.0      Femme\n",
      "19             Dzagnidze, Nana  36.0      Inde     2506.0  2427.0  2398.0      Femme\n",
      "20                   StockFish   NaN       NaN     3500.0  3500.0  3500.0  Programme\n",
      "21                         NaN   NaN       NaN        NaN     NaN     NaN        NaN\n",
      "22                        Bubu   NaN    France     1400.0  1300.0  1200.0      Femme\n",
      "23                        Bubu   NaN    France     1400.0  1300.0  1200.0      Femme\n",
      "24                        Dudu   NaN    France     1500.0  1400.0  1200.0      Homme\n",
      "25                        Test   NaN       NaN        NaN     NaN     NaN        NaN\n"
     ]
    }
   ],
   "source": [
    "chess_player                        = [\"Test\", np.nan, np.nan, np.nan, np.nan, np.nan, np.nan]\n",
    "chessbase.loc[len(chessbase.index)] = chess_player\n",
    "\n",
    "print(f\"Ajout du joueur Test :\\n\\n{chessbase}\")"
   ]
  },
  {
   "cell_type": "code",
   "execution_count": 6,
   "id": "c2f7453b-fdcb-4486-95b2-27b2c504521e",
   "metadata": {},
   "outputs": [
    {
     "name": "stdout",
     "output_type": "stream",
     "text": [
      "Nombre de lignes dupliquées               : 1\n",
      "\n",
      "Nombre de classements Blitz identiques    : 4\n",
      "\n",
      "Nombre de valeurs manquantes par lignes   :\n",
      "\n",
      "Index\n",
      "25    6\n",
      "24    1\n",
      "23    1\n",
      "22    1\n",
      "21    7\n",
      "dtype: int64\n",
      "\n",
      "Nombre de valeurs manquantes par colonnes :\n",
      "\n",
      "Nom          1\n",
      "Age          6\n",
      "Pays         3\n",
      "Classique    2\n",
      "Rapide       2\n",
      "Blitz        2\n",
      "Genre        2\n",
      "dtype: int64\n",
      "\n",
      "Nombre total de valeurs manquantes        : 18\n"
     ]
    }
   ],
   "source": [
    "print(f\"Nombre de lignes dupliquées               : {chessbase.duplicated().sum()}\\n\")\n",
    "print(f\"Nombre de classements Blitz identiques    : {chessbase.duplicated(\"Blitz\").sum()}\\n\")\n",
    "print(f\"Nombre de valeurs manquantes par lignes   :\\n\\n{chessbase.isna().sum(axis = 1)[:-6:-1]}\\n\")\n",
    "print(f\"Nombre de valeurs manquantes par colonnes :\\n\\n{chessbase.isna().sum(axis = 0)}\\n\")\n",
    "print(f\"Nombre total de valeurs manquantes        : {chessbase.isnull().sum().sum()}\")"
   ]
  },
  {
   "cell_type": "code",
   "execution_count": 7,
   "id": "b26da8cb-776e-4353-b26d-36fe20fb3f93",
   "metadata": {},
   "outputs": [
    {
     "name": "stdout",
     "output_type": "stream",
     "text": [
      "Suppression des lignes dupliquées et des lignes nulles :\n",
      "\n",
      "                           Nom   Age      Pays  Classique  Rapide   Blitz      Genre\n",
      "Index                                                                               \n",
      "0               Carlsen Magnus  33.0   Norvège     2830.0  2815.0  2887.0      Homme\n",
      "1              Caruana Fabiano  31.0       USA     2804.0  2745.0  2815.0      Homme\n",
      "2              Nakamura Hikaru  36.0       USA     2788.0  2740.0  2874.0      Homme\n",
      "3                   Ding Liren  31.0     Chine     2780.0  2830.0  2787.0      Homme\n",
      "4           Nepomniachtchi Ian  33.0    Russie     2769.0  2778.0  2801.0      Homme\n",
      "5                    So Wesley  30.0       USA     2757.0  2743.0  2767.0      Homme\n",
      "6              Dominguez Perez  40.0       USA     2756.0  2706.0  2654.0      Homme\n",
      "7             Firouzja Alireza  20.0    France     2750.0  2722.0  2863.0      Homme\n",
      "8                   Giri Anish  29.0  Pays-Bas     2749.0  2698.0  2731.0      Homme\n",
      "9       Vachier-Lagrave Maxime  33.0    France     2733.0  2759.0  2748.0      Homme\n",
      "10                  Hou, Yifan  29.0     Chine     2632.0  2545.0  2561.0      Femme\n",
      "11               Koneru, Humpy  36.0      Inde     2554.0  2444.0  2452.0      Femme\n",
      "12     Goryachkina, Aleksandra  25.0    Russie     2553.0  2483.0  2475.0      Femme\n",
      "13                Lei, Tingjie  26.0     Chine     2550.0  2517.0  2530.0      Femme\n",
      "14                  Ju, Wenjun  32.0     Chine     2549.0  2575.0  2522.0      Femme\n",
      "15             Lagno, Kateryna  33.0    Russie     2542.0  2469.0  2522.0      Femme\n",
      "16              Muzychuk, Anna  33.0   Ukraine     2525.0  2424.0  2447.0      Femme\n",
      "17                Tan, Zhongyi  32.0     Chine     2521.0  2528.0  2519.0      Femme\n",
      "18            Muzychuk, Mariya  31.0   Ukraine     2510.0  2457.0  2443.0      Femme\n",
      "19             Dzagnidze, Nana  36.0      Inde     2506.0  2427.0  2398.0      Femme\n",
      "20                   StockFish   NaN       NaN     3500.0  3500.0  3500.0  Programme\n",
      "22                        Bubu   NaN    France     1400.0  1300.0  1200.0      Femme\n",
      "24                        Dudu   NaN    France     1500.0  1400.0  1200.0      Homme\n",
      "25                        Test   NaN       NaN        NaN     NaN     NaN        NaN\n"
     ]
    }
   ],
   "source": [
    "print(\"Suppression des lignes dupliquées et des lignes nulles :\\n\")\n",
    "\n",
    "chessbase = chessbase.drop_duplicates(subset = None, keep = \"first\", inplace = False, ignore_index = False)\n",
    "chessbase = chessbase.dropna(axis = 0, how = \"all\")\n",
    "\n",
    "print(chessbase)"
   ]
  },
  {
   "cell_type": "code",
   "execution_count": 8,
   "id": "3c791dbc-afc0-4796-af89-7fe19984c592",
   "metadata": {},
   "outputs": [
    {
     "name": "stdout",
     "output_type": "stream",
     "text": [
      "Changement du nom des colonnes du dataset :\n",
      "\n",
      "\n",
      "                           Name   Age   Country  Classic   Rapid   Blitz     Gender\n",
      "Index                                                                             \n",
      "0               Carlsen Magnus  33.0   Norvège   2830.0  2815.0  2887.0      Homme\n",
      "1              Caruana Fabiano  31.0       USA   2804.0  2745.0  2815.0      Homme\n",
      "2              Nakamura Hikaru  36.0       USA   2788.0  2740.0  2874.0      Homme\n",
      "3                   Ding Liren  31.0     Chine   2780.0  2830.0  2787.0      Homme\n",
      "4           Nepomniachtchi Ian  33.0    Russie   2769.0  2778.0  2801.0      Homme\n",
      "5                    So Wesley  30.0       USA   2757.0  2743.0  2767.0      Homme\n",
      "6              Dominguez Perez  40.0       USA   2756.0  2706.0  2654.0      Homme\n",
      "7             Firouzja Alireza  20.0    France   2750.0  2722.0  2863.0      Homme\n",
      "8                   Giri Anish  29.0  Pays-Bas   2749.0  2698.0  2731.0      Homme\n",
      "9       Vachier-Lagrave Maxime  33.0    France   2733.0  2759.0  2748.0      Homme\n",
      "10                  Hou, Yifan  29.0     Chine   2632.0  2545.0  2561.0      Femme\n",
      "11               Koneru, Humpy  36.0      Inde   2554.0  2444.0  2452.0      Femme\n",
      "12     Goryachkina, Aleksandra  25.0    Russie   2553.0  2483.0  2475.0      Femme\n",
      "13                Lei, Tingjie  26.0     Chine   2550.0  2517.0  2530.0      Femme\n",
      "14                  Ju, Wenjun  32.0     Chine   2549.0  2575.0  2522.0      Femme\n",
      "15             Lagno, Kateryna  33.0    Russie   2542.0  2469.0  2522.0      Femme\n",
      "16              Muzychuk, Anna  33.0   Ukraine   2525.0  2424.0  2447.0      Femme\n",
      "17                Tan, Zhongyi  32.0     Chine   2521.0  2528.0  2519.0      Femme\n",
      "18            Muzychuk, Mariya  31.0   Ukraine   2510.0  2457.0  2443.0      Femme\n",
      "19             Dzagnidze, Nana  36.0      Inde   2506.0  2427.0  2398.0      Femme\n",
      "20                   StockFish   NaN       NaN   3500.0  3500.0  3500.0  Programme\n",
      "22                        Bubu   NaN    France   1400.0  1300.0  1200.0      Femme\n",
      "24                        Dudu   NaN    France   1500.0  1400.0  1200.0      Homme\n",
      "25                        Test   NaN       NaN      NaN     NaN     NaN        NaN\n"
     ]
    }
   ],
   "source": [
    "column_names = { \"Nom\"       : \"Name\",\n",
    "                 \"Pays\"      : \"Country\",\n",
    "                 \"Classique\" : \"Classic\",\n",
    "                 \"Rapide\"    : \"Rapid\",\n",
    "                 \"Genre\"     : \"Gender\" }\n",
    "chessbase    = chessbase.rename(column_names, axis = 1)\n",
    "\n",
    "print(f\"Changement du nom des colonnes du dataset :\\n\\n\\n {chessbase}\")"
   ]
  },
  {
   "cell_type": "code",
   "execution_count": 9,
   "id": "12576694-0bf7-4ac4-bf92-3ffcb5a3dc55",
   "metadata": {},
   "outputs": [
    {
     "name": "stdout",
     "output_type": "stream",
     "text": [
      "Changement des valeurs \"Homme\" \"Femme\" par les valeurs \"Man\" \"Woman\" :\n",
      "\n",
      "\n",
      "                           Name   Age   Country  Classic   Rapid   Blitz     Gender\n",
      "Index                                                                             \n",
      "0               Carlsen Magnus  33.0   Norvège   2830.0  2815.0  2887.0        Man\n",
      "1              Caruana Fabiano  31.0       USA   2804.0  2745.0  2815.0        Man\n",
      "2              Nakamura Hikaru  36.0       USA   2788.0  2740.0  2874.0        Man\n",
      "3                   Ding Liren  31.0     Chine   2780.0  2830.0  2787.0        Man\n",
      "4           Nepomniachtchi Ian  33.0    Russie   2769.0  2778.0  2801.0        Man\n",
      "5                    So Wesley  30.0       USA   2757.0  2743.0  2767.0        Man\n",
      "6              Dominguez Perez  40.0       USA   2756.0  2706.0  2654.0        Man\n",
      "7             Firouzja Alireza  20.0    France   2750.0  2722.0  2863.0        Man\n",
      "8                   Giri Anish  29.0  Pays-Bas   2749.0  2698.0  2731.0        Man\n",
      "9       Vachier-Lagrave Maxime  33.0    France   2733.0  2759.0  2748.0        Man\n",
      "10                  Hou, Yifan  29.0     Chine   2632.0  2545.0  2561.0      Woman\n",
      "11               Koneru, Humpy  36.0      Inde   2554.0  2444.0  2452.0      Woman\n",
      "12     Goryachkina, Aleksandra  25.0    Russie   2553.0  2483.0  2475.0      Woman\n",
      "13                Lei, Tingjie  26.0     Chine   2550.0  2517.0  2530.0      Woman\n",
      "14                  Ju, Wenjun  32.0     Chine   2549.0  2575.0  2522.0      Woman\n",
      "15             Lagno, Kateryna  33.0    Russie   2542.0  2469.0  2522.0      Woman\n",
      "16              Muzychuk, Anna  33.0   Ukraine   2525.0  2424.0  2447.0      Woman\n",
      "17                Tan, Zhongyi  32.0     Chine   2521.0  2528.0  2519.0      Woman\n",
      "18            Muzychuk, Mariya  31.0   Ukraine   2510.0  2457.0  2443.0      Woman\n",
      "19             Dzagnidze, Nana  36.0      Inde   2506.0  2427.0  2398.0      Woman\n",
      "20                   StockFish   NaN       NaN   3500.0  3500.0  3500.0  Programme\n",
      "22                        Bubu   NaN    France   1400.0  1300.0  1200.0      Woman\n",
      "24                        Dudu   NaN    France   1500.0  1400.0  1200.0        Man\n",
      "25                        Test   NaN       NaN      NaN     NaN     NaN        NaN\n"
     ]
    }
   ],
   "source": [
    "chessbase = chessbase.replace(to_replace = [\"Homme\", \"Femme\"], value = [\"Man\", \"Woman\"])\n",
    "\n",
    "print(f\"Changement des valeurs \\\"Homme\\\" \\\"Femme\\\" par les valeurs \\\"Man\\\" \\\"Woman\\\" :\\n\\n\\n {chessbase}\")"
   ]
  },
  {
   "cell_type": "code",
   "execution_count": 10,
   "id": "0b277f9c-89ca-4232-ae29-ac552b9b7040",
   "metadata": {},
   "outputs": [
    {
     "name": "stdout",
     "output_type": "stream",
     "text": [
      "Récupération de l'enregistrement ayant le classement elo classique maximum :\n",
      "\n",
      "            Name  Age Country  Classic   Rapid   Blitz     Gender\n",
      "Index                                                            \n",
      "20     StockFish  NaN     NaN   3500.0  3500.0  3500.0  Programme\n",
      "\n",
      "Index du plus haut classement elo                                          : 20\n"
     ]
    }
   ],
   "source": [
    "print(f\"Récupération de l'enregistrement ayant le classement elo classique maximum :\\n\\n{chessbase[chessbase[\"Classic\"] == chessbase[\"Classic\"].max()]}\\n\")\n",
    "print(f\"Index du plus haut classement elo                                          : {chessbase[\"Classic\"].idxmax(axis = 0)}\")"
   ]
  },
  {
   "cell_type": "code",
   "execution_count": 11,
   "id": "260a36c2-2f5b-4b9d-8863-4825bf2cbfaf",
   "metadata": {},
   "outputs": [
    {
     "name": "stdout",
     "output_type": "stream",
     "text": [
      "Nombre d'éléments pour chaque pays :\n",
      "\n",
      "Country\n",
      "Chine       5\n",
      "USA         4\n",
      "France      4\n",
      "Russie      3\n",
      "Inde        2\n",
      "Ukraine     2\n",
      "Norvège     1\n",
      "Pays-Bas    1\n",
      "Name: count, dtype: int64\n"
     ]
    }
   ],
   "source": [
    "print(f\"Nombre d'éléments pour chaque pays :\\n\\n{chessbase[\"Country\"].value_counts()}\")"
   ]
  },
  {
   "cell_type": "code",
   "execution_count": 12,
   "id": "ad4777b7-f94b-41fd-9faa-be4b93e30215",
   "metadata": {},
   "outputs": [
    {
     "name": "stdout",
     "output_type": "stream",
     "text": [
      "Ajout de la colonne Mean :\n",
      "\n",
      "                          Name   Age   Country  Classic   Rapid   Blitz     Gender     Mean\n",
      "Index                                                                                      \n",
      "0               Carlsen Magnus  33.0   Norvège   2830.0  2815.0  2887.0        Man  2844.00\n",
      "1              Caruana Fabiano  31.0       USA   2804.0  2745.0  2815.0        Man  2788.00\n",
      "2              Nakamura Hikaru  36.0       USA   2788.0  2740.0  2874.0        Man  2800.67\n",
      "3                   Ding Liren  31.0     Chine   2780.0  2830.0  2787.0        Man  2799.00\n",
      "4           Nepomniachtchi Ian  33.0    Russie   2769.0  2778.0  2801.0        Man  2782.67\n",
      "5                    So Wesley  30.0       USA   2757.0  2743.0  2767.0        Man  2755.67\n",
      "6              Dominguez Perez  40.0       USA   2756.0  2706.0  2654.0        Man  2705.33\n",
      "7             Firouzja Alireza  20.0    France   2750.0  2722.0  2863.0        Man  2778.33\n",
      "8                   Giri Anish  29.0  Pays-Bas   2749.0  2698.0  2731.0        Man  2726.00\n",
      "9       Vachier-Lagrave Maxime  33.0    France   2733.0  2759.0  2748.0        Man  2746.67\n",
      "10                  Hou, Yifan  29.0     Chine   2632.0  2545.0  2561.0      Woman  2579.33\n",
      "11               Koneru, Humpy  36.0      Inde   2554.0  2444.0  2452.0      Woman  2483.33\n",
      "12     Goryachkina, Aleksandra  25.0    Russie   2553.0  2483.0  2475.0      Woman  2503.67\n",
      "13                Lei, Tingjie  26.0     Chine   2550.0  2517.0  2530.0      Woman  2532.33\n",
      "14                  Ju, Wenjun  32.0     Chine   2549.0  2575.0  2522.0      Woman  2548.67\n",
      "15             Lagno, Kateryna  33.0    Russie   2542.0  2469.0  2522.0      Woman  2511.00\n",
      "16              Muzychuk, Anna  33.0   Ukraine   2525.0  2424.0  2447.0      Woman  2465.33\n",
      "17                Tan, Zhongyi  32.0     Chine   2521.0  2528.0  2519.0      Woman  2522.67\n",
      "18            Muzychuk, Mariya  31.0   Ukraine   2510.0  2457.0  2443.0      Woman  2470.00\n",
      "19             Dzagnidze, Nana  36.0      Inde   2506.0  2427.0  2398.0      Woman  2443.67\n",
      "20                   StockFish   NaN       NaN   3500.0  3500.0  3500.0  Programme  3500.00\n",
      "22                        Bubu   NaN    France   1400.0  1300.0  1200.0      Woman  1300.00\n",
      "24                        Dudu   NaN    France   1500.0  1400.0  1200.0        Man  1366.67\n",
      "25                        Test   NaN       NaN      NaN     NaN     NaN        NaN      NaN\n"
     ]
    }
   ],
   "source": [
    "dictionnary       = {\"Classic\" : \"float\",\n",
    "                     \"Rapid\"   : \"float\",\n",
    "                     \"Blitz\"   : \"float\"}\n",
    "chessbase         = chessbase.astype(dictionnary)\n",
    "chessbase[\"Mean\"] = chessbase.apply(lambda row: np.round((row[\"Classic\"] + row[\"Rapid\"] + row[\"Blitz\"]) / 3, decimals = 2), axis = 1)\n",
    "\n",
    "print(f\"Ajout de la colonne Mean :\\n\\n{chessbase}\")"
   ]
  },
  {
   "cell_type": "code",
   "execution_count": 13,
   "id": "1b540f97-0372-4f30-9b61-f9c281af6c02",
   "metadata": {},
   "outputs": [
    {
     "name": "stdout",
     "output_type": "stream",
     "text": [
      "Ajout de la colonne Level :\n",
      "\n",
      "                          Name   Age   Country  Classic   Rapid   Blitz     Gender     Mean           Level\n",
      "Index                                                                                                      \n",
      "0               Carlsen Magnus  33.0   Norvège   2830.0  2815.0  2887.0        Man  2844.00  World Champion\n",
      "1              Caruana Fabiano  31.0       USA   2804.0  2745.0  2815.0        Man  2788.00    Grand Master\n",
      "2              Nakamura Hikaru  36.0       USA   2788.0  2740.0  2874.0        Man  2800.67    Grand Master\n",
      "3                   Ding Liren  31.0     Chine   2780.0  2830.0  2787.0        Man  2799.00    Grand Master\n",
      "4           Nepomniachtchi Ian  33.0    Russie   2769.0  2778.0  2801.0        Man  2782.67    Grand Master\n",
      "5                    So Wesley  30.0       USA   2757.0  2743.0  2767.0        Man  2755.67    Grand Master\n",
      "6              Dominguez Perez  40.0       USA   2756.0  2706.0  2654.0        Man  2705.33    Grand Master\n",
      "7             Firouzja Alireza  20.0    France   2750.0  2722.0  2863.0        Man  2778.33    Grand Master\n",
      "8                   Giri Anish  29.0  Pays-Bas   2749.0  2698.0  2731.0        Man  2726.00    Grand Master\n",
      "9       Vachier-Lagrave Maxime  33.0    France   2733.0  2759.0  2748.0        Man  2746.67    Grand Master\n",
      "10                  Hou, Yifan  29.0     Chine   2632.0  2545.0  2561.0      Woman  2579.33    Grand Master\n",
      "11               Koneru, Humpy  36.0      Inde   2554.0  2444.0  2452.0      Woman  2483.33          Master\n",
      "12     Goryachkina, Aleksandra  25.0    Russie   2553.0  2483.0  2475.0      Woman  2503.67          Master\n",
      "13                Lei, Tingjie  26.0     Chine   2550.0  2517.0  2530.0      Woman  2532.33          Master\n",
      "14                  Ju, Wenjun  32.0     Chine   2549.0  2575.0  2522.0      Woman  2548.67          Master\n",
      "15             Lagno, Kateryna  33.0    Russie   2542.0  2469.0  2522.0      Woman  2511.00          Master\n",
      "16              Muzychuk, Anna  33.0   Ukraine   2525.0  2424.0  2447.0      Woman  2465.33          Master\n",
      "17                Tan, Zhongyi  32.0     Chine   2521.0  2528.0  2519.0      Woman  2522.67          Master\n",
      "18            Muzychuk, Mariya  31.0   Ukraine   2510.0  2457.0  2443.0      Woman  2470.00          Master\n",
      "19             Dzagnidze, Nana  36.0      Inde   2506.0  2427.0  2398.0      Woman  2443.67          Master\n",
      "20                   StockFish   NaN       NaN   3500.0  3500.0  3500.0  Programme  3500.00       Chess God\n",
      "22                        Bubu   NaN    France   1400.0  1300.0  1200.0      Woman  1300.00         Amateur\n",
      "24                        Dudu   NaN    France   1500.0  1400.0  1200.0        Man  1366.67         Amateur\n",
      "25                        Test   NaN       NaN      NaN     NaN     NaN        NaN      NaN              NC\n"
     ]
    }
   ],
   "source": [
    "def get_level(rating):\n",
    "    level = \"\"\n",
    "\n",
    "    if rating > 3000:\n",
    "        level = \"Chess God\"\n",
    "    elif rating >= 2830:\n",
    "        level = \"World Champion\"\n",
    "    elif rating > 2550:\n",
    "        level = \"Grand Master\"\n",
    "    elif rating >= 2300:\n",
    "        level = \"Master\"\n",
    "    elif rating >= 1000:\n",
    "        level = \"Amateur\"\n",
    "    else:\n",
    "        level = \"NC\"\n",
    "    return level\n",
    "\n",
    "\n",
    "chessbase[\"Level\"] = chessbase[\"Mean\"].apply(get_level)\n",
    "\n",
    "print(f\"Ajout de la colonne Level :\\n\\n{chessbase}\")"
   ]
  },
  {
   "cell_type": "code",
   "execution_count": 14,
   "id": "94c4e678-78e4-47f5-8693-fd6806ef7ee3",
   "metadata": {},
   "outputs": [
    {
     "name": "stdout",
     "output_type": "stream",
     "text": [
      "Concaténation des amateurs et des grands maîtres :\n",
      "\n",
      "                         Name   Age   Country  Classic   Rapid   Blitz Gender     Mean           Level\n",
      "Index                                                                                                 \n",
      "0              Carlsen Magnus  33.0   Norvège   2830.0  2815.0  2887.0    Man  2844.00  World Champion\n",
      "1             Caruana Fabiano  31.0       USA   2804.0  2745.0  2815.0    Man  2788.00    Grand Master\n",
      "2             Nakamura Hikaru  36.0       USA   2788.0  2740.0  2874.0    Man  2800.67    Grand Master\n",
      "3                  Ding Liren  31.0     Chine   2780.0  2830.0  2787.0    Man  2799.00    Grand Master\n",
      "4          Nepomniachtchi Ian  33.0    Russie   2769.0  2778.0  2801.0    Man  2782.67    Grand Master\n",
      "5                   So Wesley  30.0       USA   2757.0  2743.0  2767.0    Man  2755.67    Grand Master\n",
      "6             Dominguez Perez  40.0       USA   2756.0  2706.0  2654.0    Man  2705.33    Grand Master\n",
      "7            Firouzja Alireza  20.0    France   2750.0  2722.0  2863.0    Man  2778.33    Grand Master\n",
      "8                  Giri Anish  29.0  Pays-Bas   2749.0  2698.0  2731.0    Man  2726.00    Grand Master\n",
      "9      Vachier-Lagrave Maxime  33.0    France   2733.0  2759.0  2748.0    Man  2746.67    Grand Master\n",
      "10                 Hou, Yifan  29.0     Chine   2632.0  2545.0  2561.0  Woman  2579.33    Grand Master\n",
      "22                       Bubu   NaN    France   1400.0  1300.0  1200.0  Woman  1300.00         Amateur\n",
      "24                       Dudu   NaN    France   1500.0  1400.0  1200.0    Man  1366.67         Amateur\n"
     ]
    }
   ],
   "source": [
    "grandmaster    = chessbase[(chessbase[\"Mean\"] > 2550) & -(chessbase[\"Name\"] == \"StockFish\")]\n",
    "amateur        = chessbase[chessbase[\"Level\"] == \"Amateur\"]\n",
    "union_vertical = pd.concat([grandmaster, amateur], axis = 0)\n",
    "\n",
    "print(f\"Concaténation des amateurs et des grands maîtres :\\n\\n{union_vertical}\")"
   ]
  },
  {
   "cell_type": "code",
   "execution_count": 15,
   "id": "e7ced567-0561-42b3-8473-d2a640efd208",
   "metadata": {},
   "outputs": [
    {
     "name": "stdout",
     "output_type": "stream",
     "text": [
      "Tri des grands maîtres par classements elo :\n",
      "\n",
      "                         Name   Age   Country  Classic   Rapid   Blitz Gender     Mean           Level\n",
      "Index                                                                                                 \n",
      "0              Carlsen Magnus  33.0   Norvège   2830.0  2815.0  2887.0    Man  2844.00  World Champion\n",
      "1             Caruana Fabiano  31.0       USA   2804.0  2745.0  2815.0    Man  2788.00    Grand Master\n",
      "3                  Ding Liren  31.0     Chine   2780.0  2830.0  2787.0    Man  2799.00    Grand Master\n",
      "6             Dominguez Perez  40.0       USA   2756.0  2706.0  2654.0    Man  2705.33    Grand Master\n",
      "7            Firouzja Alireza  20.0    France   2750.0  2722.0  2863.0    Man  2778.33    Grand Master\n",
      "8                  Giri Anish  29.0  Pays-Bas   2749.0  2698.0  2731.0    Man  2726.00    Grand Master\n",
      "10                 Hou, Yifan  29.0     Chine   2632.0  2545.0  2561.0  Woman  2579.33    Grand Master\n",
      "2             Nakamura Hikaru  36.0       USA   2788.0  2740.0  2874.0    Man  2800.67    Grand Master\n",
      "4          Nepomniachtchi Ian  33.0    Russie   2769.0  2778.0  2801.0    Man  2782.67    Grand Master\n",
      "5                   So Wesley  30.0       USA   2757.0  2743.0  2767.0    Man  2755.67    Grand Master\n",
      "9      Vachier-Lagrave Maxime  33.0    France   2733.0  2759.0  2748.0    Man  2746.67    Grand Master\n"
     ]
    }
   ],
   "source": [
    "grandmaster = grandmaster.sort_values(by = [ \"Name\" ], ascending = True)\n",
    "\n",
    "print(f\"Tri des grands maîtres par classements elo :\\n\\n{grandmaster}\")"
   ]
  },
  {
   "cell_type": "code",
   "execution_count": 16,
   "id": "a024c777-e466-4ea8-a828-64205c9a5cd9",
   "metadata": {},
   "outputs": [
    {
     "name": "stdout",
     "output_type": "stream",
     "text": [
      "Remplacement des valeurs nulles sur la colonne Mean par la valeur minimale de la colonne :\n",
      "\n",
      "                          Name   Age   Country  Classic   Rapid   Blitz     Gender     Mean           Level\n",
      "Index                                                                                                      \n",
      "0               Carlsen Magnus  33.0   Norvège   2830.0  2815.0  2887.0        Man  2844.00  World Champion\n",
      "1              Caruana Fabiano  31.0       USA   2804.0  2745.0  2815.0        Man  2788.00    Grand Master\n",
      "2              Nakamura Hikaru  36.0       USA   2788.0  2740.0  2874.0        Man  2800.67    Grand Master\n",
      "3                   Ding Liren  31.0     Chine   2780.0  2830.0  2787.0        Man  2799.00    Grand Master\n",
      "4           Nepomniachtchi Ian  33.0    Russie   2769.0  2778.0  2801.0        Man  2782.67    Grand Master\n",
      "5                    So Wesley  30.0       USA   2757.0  2743.0  2767.0        Man  2755.67    Grand Master\n",
      "6              Dominguez Perez  40.0       USA   2756.0  2706.0  2654.0        Man  2705.33    Grand Master\n",
      "7             Firouzja Alireza  20.0    France   2750.0  2722.0  2863.0        Man  2778.33    Grand Master\n",
      "8                   Giri Anish  29.0  Pays-Bas   2749.0  2698.0  2731.0        Man  2726.00    Grand Master\n",
      "9       Vachier-Lagrave Maxime  33.0    France   2733.0  2759.0  2748.0        Man  2746.67    Grand Master\n",
      "10                  Hou, Yifan  29.0     Chine   2632.0  2545.0  2561.0      Woman  2579.33    Grand Master\n",
      "11               Koneru, Humpy  36.0      Inde   2554.0  2444.0  2452.0      Woman  2483.33          Master\n",
      "12     Goryachkina, Aleksandra  25.0    Russie   2553.0  2483.0  2475.0      Woman  2503.67          Master\n",
      "13                Lei, Tingjie  26.0     Chine   2550.0  2517.0  2530.0      Woman  2532.33          Master\n",
      "14                  Ju, Wenjun  32.0     Chine   2549.0  2575.0  2522.0      Woman  2548.67          Master\n",
      "15             Lagno, Kateryna  33.0    Russie   2542.0  2469.0  2522.0      Woman  2511.00          Master\n",
      "16              Muzychuk, Anna  33.0   Ukraine   2525.0  2424.0  2447.0      Woman  2465.33          Master\n",
      "17                Tan, Zhongyi  32.0     Chine   2521.0  2528.0  2519.0      Woman  2522.67          Master\n",
      "18            Muzychuk, Mariya  31.0   Ukraine   2510.0  2457.0  2443.0      Woman  2470.00          Master\n",
      "19             Dzagnidze, Nana  36.0      Inde   2506.0  2427.0  2398.0      Woman  2443.67          Master\n",
      "20                   StockFish   NaN       NaN   3500.0  3500.0  3500.0  Programme  3500.00       Chess God\n",
      "22                        Bubu   NaN    France   1400.0  1300.0  1200.0      Woman  1300.00         Amateur\n",
      "24                        Dudu   NaN    France   1500.0  1400.0  1200.0        Man  1366.67         Amateur\n",
      "25                        Test   NaN       NaN      NaN     NaN     NaN        NaN  1300.00              NC\n"
     ]
    }
   ],
   "source": [
    "chessbase[\"Mean\"] = chessbase[\"Mean\"].fillna(chessbase[\"Mean\"].min())\n",
    "\n",
    "print(f\"Remplacement des valeurs nulles sur la colonne Mean par la valeur minimale de la colonne :\\n\\n{chessbase}\")"
   ]
  },
  {
   "cell_type": "code",
   "execution_count": 17,
   "id": "dbda90e5-53fa-4d1e-a329-ce58e4b46d15",
   "metadata": {},
   "outputs": [
    {
     "name": "stdout",
     "output_type": "stream",
     "text": [
      "Extraction des colonnes numériques :\n",
      "\n",
      "       Classic   Rapid   Blitz     Gender     Mean\n",
      "Index                                             \n",
      "0       2830.0  2815.0  2887.0        Man  2844.00\n",
      "1       2804.0  2745.0  2815.0        Man  2788.00\n",
      "2       2788.0  2740.0  2874.0        Man  2800.67\n",
      "3       2780.0  2830.0  2787.0        Man  2799.00\n",
      "4       2769.0  2778.0  2801.0        Man  2782.67\n",
      "5       2757.0  2743.0  2767.0        Man  2755.67\n",
      "6       2756.0  2706.0  2654.0        Man  2705.33\n",
      "7       2750.0  2722.0  2863.0        Man  2778.33\n",
      "8       2749.0  2698.0  2731.0        Man  2726.00\n",
      "9       2733.0  2759.0  2748.0        Man  2746.67\n",
      "10      2632.0  2545.0  2561.0      Woman  2579.33\n",
      "11      2554.0  2444.0  2452.0      Woman  2483.33\n",
      "12      2553.0  2483.0  2475.0      Woman  2503.67\n",
      "13      2550.0  2517.0  2530.0      Woman  2532.33\n",
      "14      2549.0  2575.0  2522.0      Woman  2548.67\n",
      "15      2542.0  2469.0  2522.0      Woman  2511.00\n",
      "16      2525.0  2424.0  2447.0      Woman  2465.33\n",
      "17      2521.0  2528.0  2519.0      Woman  2522.67\n",
      "18      2510.0  2457.0  2443.0      Woman  2470.00\n",
      "19      2506.0  2427.0  2398.0      Woman  2443.67\n",
      "20      3500.0  3500.0  3500.0  Programme  3500.00\n",
      "22      1400.0  1300.0  1200.0      Woman  1300.00\n",
      "24      1500.0  1400.0  1200.0        Man  1366.67\n",
      "25         NaN     NaN     NaN        NaN  1300.00\n"
     ]
    }
   ],
   "source": [
    "X = chessbase.drop([\"Name\", \"Age\", \"Country\", \"Level\"], axis = 1)\n",
    "y = chessbase[\"Level\"]\n",
    "\n",
    "print(f\"Extraction des colonnes numériques :\\n\\n{X}\")"
   ]
  },
  {
   "cell_type": "code",
   "execution_count": 18,
   "id": "2f888e1d-54a8-4cca-91e2-4589273f9ff4",
   "metadata": {},
   "outputs": [
    {
     "name": "stdout",
     "output_type": "stream",
     "text": [
      "Comparaison des moyennes des différents niveaux d'échecs en fonction du genre :\n",
      "\n",
      "\n"
     ]
    },
    {
     "data": {
      "text/html": [
       "<div>\n",
       "<style scoped>\n",
       "    .dataframe tbody tr th:only-of-type {\n",
       "        vertical-align: middle;\n",
       "    }\n",
       "\n",
       "    .dataframe tbody tr th {\n",
       "        vertical-align: top;\n",
       "    }\n",
       "\n",
       "    .dataframe thead th {\n",
       "        text-align: right;\n",
       "    }\n",
       "</style>\n",
       "<table border=\"1\" class=\"dataframe\">\n",
       "  <thead>\n",
       "    <tr style=\"text-align: right;\">\n",
       "      <th></th>\n",
       "      <th></th>\n",
       "      <th>Mean</th>\n",
       "    </tr>\n",
       "    <tr>\n",
       "      <th>Gender</th>\n",
       "      <th>Level</th>\n",
       "      <th></th>\n",
       "    </tr>\n",
       "  </thead>\n",
       "  <tbody>\n",
       "    <tr>\n",
       "      <th rowspan=\"3\" valign=\"top\">Man</th>\n",
       "      <th>Amateur</th>\n",
       "      <td>1366.67</td>\n",
       "    </tr>\n",
       "    <tr>\n",
       "      <th>Grand Master</th>\n",
       "      <td>2764.70</td>\n",
       "    </tr>\n",
       "    <tr>\n",
       "      <th>World Champion</th>\n",
       "      <td>2844.00</td>\n",
       "    </tr>\n",
       "    <tr>\n",
       "      <th>Programme</th>\n",
       "      <th>Chess God</th>\n",
       "      <td>3500.00</td>\n",
       "    </tr>\n",
       "    <tr>\n",
       "      <th rowspan=\"3\" valign=\"top\">Woman</th>\n",
       "      <th>Amateur</th>\n",
       "      <td>1300.00</td>\n",
       "    </tr>\n",
       "    <tr>\n",
       "      <th>Grand Master</th>\n",
       "      <td>2579.33</td>\n",
       "    </tr>\n",
       "    <tr>\n",
       "      <th>Master</th>\n",
       "      <td>2497.85</td>\n",
       "    </tr>\n",
       "  </tbody>\n",
       "</table>\n",
       "</div>"
      ],
      "text/plain": [
       "                             Mean\n",
       "Gender    Level                  \n",
       "Man       Amateur         1366.67\n",
       "          Grand Master    2764.70\n",
       "          World Champion  2844.00\n",
       "Programme Chess God       3500.00\n",
       "Woman     Amateur         1300.00\n",
       "          Grand Master    2579.33\n",
       "          Master          2497.85"
      ]
     },
     "execution_count": 18,
     "metadata": {},
     "output_type": "execute_result"
    }
   ],
   "source": [
    "mean               = lambda m: m.mean().round(2)\n",
    "functions_to_apply = { \"Mean\" : mean }\n",
    "\n",
    "print(\"Comparaison des moyennes des différents niveaux d'échecs en fonction du genre :\\n\\n\")\n",
    "\n",
    "chessbase.groupby([\"Gender\", \"Level\"]).agg(functions_to_apply)"
   ]
  }
 ],
 "metadata": {
  "kernelspec": {
   "display_name": "Python 3 (ipykernel)",
   "language": "python",
   "name": "python3"
  },
  "language_info": {
   "codemirror_mode": {
    "name": "ipython",
    "version": 3
   },
   "file_extension": ".py",
   "mimetype": "text/x-python",
   "name": "python",
   "nbconvert_exporter": "python",
   "pygments_lexer": "ipython3",
   "version": "3.12.0"
  }
 },
 "nbformat": 4,
 "nbformat_minor": 5
}
